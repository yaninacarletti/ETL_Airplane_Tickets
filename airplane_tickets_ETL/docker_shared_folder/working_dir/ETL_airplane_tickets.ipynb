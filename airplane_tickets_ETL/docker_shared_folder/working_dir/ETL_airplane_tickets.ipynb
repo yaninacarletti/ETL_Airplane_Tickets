{
 "cells": [
  {
   "cell_type": "code",
   "execution_count": 1,
   "id": "183fe2c5-14c5-4560-ba79-0e9f7ba560ef",
   "metadata": {
    "tags": []
   },
   "outputs": [
    {
     "name": "stdout",
     "output_type": "stream",
     "text": [
      "Requirement already satisfied: pyspark in /usr/local/spark-3.4.0-bin-hadoop3/python (3.4.0)\n",
      "Requirement already satisfied: py4j==0.10.9.7 in /opt/conda/lib/python3.10/site-packages (from pyspark) (0.10.9.7)\n",
      "Requirement already satisfied: psycopg2-binary in /opt/conda/lib/python3.10/site-packages (2.9.6)\n"
     ]
    }
   ],
   "source": [
    "# library installation\n",
    "!pip install -q kaggle\n",
    "!pip install pyspark\n",
    "!pip install psycopg2-binary"
   ]
  },
  {
   "cell_type": "code",
   "execution_count": 5,
   "id": "94d80aa9-c2d6-4173-902a-15c3e5e7d584",
   "metadata": {
    "tags": []
   },
   "outputs": [],
   "source": [
    "# imports\n",
    "from pyspark.sql import functions as f\n",
    "from pyspark.sql import SparkSession\n",
    "from pyspark.sql.types import *\n",
    "from zipfile import ZipFile\n",
    "import os\n",
    "import psycopg2\n",
    "import pandas as pd\n",
    "import json"
   ]
  },
  {
   "cell_type": "code",
   "execution_count": 6,
   "id": "90dc6c2b-888b-437a-83fd-a0388fd76daa",
   "metadata": {
    "tags": []
   },
   "outputs": [],
   "source": [
    "# folder creation\n",
    "!mkdir -p /home/coder/.kaggle"
   ]
  },
  {
   "cell_type": "code",
   "execution_count": 7,
   "id": "beb8cabc-0135-45c3-9dfe-dd4e50fb32d4",
   "metadata": {
    "tags": []
   },
   "outputs": [],
   "source": [
    "# file copy\n",
    "!cp kaggle.json /home/coder/.kaggle/"
   ]
  },
  {
   "cell_type": "code",
   "execution_count": 8,
   "id": "6423f052-8b88-4ab2-833c-731b8f98dff5",
   "metadata": {
    "tags": []
   },
   "outputs": [],
   "source": [
    "# granting permissions to read file \"kaggle.json\"\n",
    "!chmod 600 /home/coder/.kaggle/kaggle.json"
   ]
  },
  {
   "cell_type": "code",
   "execution_count": 9,
   "id": "68e98d24-c4fc-470c-97f9-bc8ee4da424b",
   "metadata": {
    "tags": []
   },
   "outputs": [
    {
     "name": "stdout",
     "output_type": "stream",
     "text": [
      "Downloading airplane-tickets-from-moscow-2022.zip to /home/coder/working_dir\n",
      " 93%|███████████████████████████████████▎  | 2.00M/2.15M [00:01<00:00, 1.39MB/s]\n",
      "100%|██████████████████████████████████████| 2.15M/2.15M [00:01<00:00, 1.36MB/s]\n"
     ]
    }
   ],
   "source": [
    "# download files from Kaggle\n",
    "!kaggle datasets download -d francuzovd/airplane-tickets-from-moscow-2022 --force"
   ]
  },
  {
   "cell_type": "code",
   "execution_count": 10,
   "id": "4ef2ace3-9ca8-40af-ad03-c0782cfb401f",
   "metadata": {
    "tags": []
   },
   "outputs": [
    {
     "name": "stdout",
     "output_type": "stream",
     "text": [
      "Done\n"
     ]
    }
   ],
   "source": [
    "# file decompression\n",
    "file_name = \"airplane-tickets-from-moscow-2022.zip\"\n",
    "with ZipFile(file_name, 'r') as zip:\n",
    "    zip.extractall()\n",
    "    print(\"Done\")"
   ]
  },
  {
   "cell_type": "code",
   "execution_count": 11,
   "id": "50d315cd-ab06-4175-9de3-46f20e0954e4",
   "metadata": {
    "tags": []
   },
   "outputs": [],
   "source": [
    "env = os.environ"
   ]
  },
  {
   "cell_type": "code",
   "execution_count": 12,
   "id": "1aa5d5df-17d5-47bc-9306-8241a811548c",
   "metadata": {
    "tags": []
   },
   "outputs": [],
   "source": [
    "# Postgres and Redshift JDBCs\n",
    "driver_path = \"./spark_drivers/postgresql-42.5.2.jar\"\n",
    "\n",
    "env['PYSPARK_SUBMIT_ARGS'] = f'--driver-class-path {driver_path} --jars {driver_path} pyspark-shell'\n",
    "env['SPARK_CLASSPATH'] = driver_path\n",
    "\n",
    "\n",
    "# Create SparkSession\n",
    "spark = SparkSession.builder \\\n",
    "        .master(\"local\") \\\n",
    "        .appName(\"Conexion entre Pyspark y Redshift\") \\\n",
    "        .config(\"spark.jars\", driver_path) \\\n",
    "        .config(\"spark.executor.extraClassPath\", driver_path) \\\n",
    "        .getOrCreate()"
   ]
  },
  {
   "cell_type": "code",
   "execution_count": 13,
   "id": "51e9dba8-0e8a-48f2-a7b8-eece8cb01fd9",
   "metadata": {
    "tags": []
   },
   "outputs": [],
   "source": [
    "# Connect to Redshift using psycopg2\n",
    "conn = psycopg2.connect(\n",
    "    host=env['REDSHIFT_HOST'],\n",
    "    port=env['REDSHIFT_PORT'],\n",
    "    dbname=env['REDSHIFT_DB'],\n",
    "    user=env['REDSHIFT_USER'],\n",
    "    password=env['REDSHIFT_PASSWORD']\n",
    ")"
   ]
  },
  {
   "cell_type": "code",
   "execution_count": 15,
   "id": "2c0afbe1-120a-48f1-9234-bb00c90e9370",
   "metadata": {
    "tags": []
   },
   "outputs": [
    {
     "name": "stdout",
     "output_type": "stream",
     "text": [
      "Table created!\n"
     ]
    }
   ],
   "source": [
    "# Create table\n",
    "cursor = conn.cursor()\n",
    "cursor.execute(f\"\"\"\n",
    "create table if not exists {env['REDSHIFT_SCHEMA']}.airplane_tickets (\n",
    "    found_at timestamp distkey,\n",
    "    class varchar(5),\n",
    "    value decimal(10,2),\n",
    "    number_of_changes integer,\n",
    "    depart_date date,\n",
    "    search_date date,\n",
    "    airline_code varchar(12),\n",
    "    airline_name_translations varchar(100),\n",
    "    origin varchar(12),\n",
    "    destination varchar(12),\n",
    "    country_code varchar(12),\n",
    "    time_zone varchar(50),\n",
    "    flightable boolean,\n",
    "    iata_type varchar(12),\n",
    "    airport_name varchar(50),\n",
    "    airport_name_translations varchar(100),\n",
    "    airport_latitude decimal(10,2),\n",
    "    airport_longitude decimal(10,2)\n",
    ") sortkey(found_at);\n",
    "\"\"\")\n",
    "conn.commit()\n",
    "cursor.close()\n",
    "print(\"Table created!\")"
   ]
  },
  {
   "cell_type": "code",
   "execution_count": 16,
   "id": "b8b45c5c-592b-4570-94fa-f20d5448e35c",
   "metadata": {
    "tags": []
   },
   "outputs": [
    {
     "name": "stdout",
     "output_type": "stream",
     "text": [
      "airplane_tickets\n"
     ]
    }
   ],
   "source": [
    "# verify that the table is created\n",
    "cursor = conn.cursor()\n",
    "cursor.execute(f\"\"\"\n",
    "SELECT\n",
    "  distinct tablename\n",
    "FROM\n",
    "  PG_TABLE_DEF\n",
    "WHERE\n",
    "  schemaname = '{env['REDSHIFT_SCHEMA']}';\n",
    "\"\"\")\n",
    "print(\", \".join(map(lambda x: x[0], cursor.fetchall())))\n",
    "cursor.close()"
   ]
  },
  {
   "cell_type": "code",
   "execution_count": 17,
   "id": "38402fbe-0f5e-4fd7-9939-ae9ecafbcc0f",
   "metadata": {
    "tags": []
   },
   "outputs": [
    {
     "name": "stdout",
     "output_type": "stream",
     "text": [
      "+-------+----------+------+-----------------+-------------------+-----------+-----------+-------+-----------+\n",
      "|  value|trip_class|origin|number_of_changes|           found_at|destination|depart_date|airline|search_date|\n",
      "+-------+----------+------+-----------------+-------------------+-----------+-----------+-------+-----------+\n",
      "|43270.0|         0|   MOW|              2.0|2022-03-30T14:54:04|        SYZ| 2022-04-21|     TK| 2022-04-02|\n",
      "|28166.0|         0|   MOW|              3.0|2022-04-02T08:08:06|        SPU| 2022-04-25|     W6| 2022-04-02|\n",
      "|24159.0|         0|   MOW|              2.0|2022-04-01T09:23:26|        SZF| 2022-04-14|     TK| 2022-04-02|\n",
      "|11160.0|         0|   MOW|              1.0|2022-04-02T12:09:50|        ABA| 2022-04-12|     S7| 2022-04-02|\n",
      "|19920.0|         0|   MOW|              1.0|2022-04-02T12:44:34|        CAI| 2022-04-14|     SU| 2022-04-02|\n",
      "|24260.0|         0|   MOW|              2.0|2022-04-01T23:54:23|        GZT| 2022-04-11|     TK| 2022-04-02|\n",
      "|30395.0|         0|   MOW|              2.0|2022-04-02T10:32:52|        BHX| 2022-04-18|     WZ| 2022-04-02|\n",
      "|23480.0|         0|   MOW|              4.0|2022-04-02T12:44:40|        PRG| 2022-04-12|     TK| 2022-04-02|\n",
      "|27273.0|         0|   MOW|              3.0|2022-04-02T12:27:58|        LCA| 2022-04-24|     W6| 2022-04-02|\n",
      "|25521.0|         0|   MOW|              2.0|2022-04-02T10:47:22|        ЗЕЯ| 2022-04-27|     S7| 2022-04-02|\n",
      "|25919.0|         0|   MOW|              3.0|2022-04-02T09:50:24|        TLL| 2022-04-29|     W6| 2022-04-02|\n",
      "|34319.0|         0|   MOW|              3.0|2022-04-01T17:00:30|        KSC| 2022-04-18|     TK| 2022-04-02|\n",
      "|36263.0|         0|   MOW|              3.0|2022-04-02T12:25:26|        JTR| 2022-04-27|     B2| 2022-04-02|\n",
      "|39203.0|         0|   MOW|              1.0|2022-03-27T17:41:40|        BQJ| 2022-04-17|     R3| 2022-04-02|\n",
      "| 4649.0|         0|   MOW|              NaN|2022-04-02T12:27:58|        ASF| 2022-04-11|     DP| 2022-04-02|\n",
      "|25263.0|         0|   MOW|              1.0|2022-04-01T10:55:17|        DUB| 2022-04-28|     5F| 2022-04-02|\n",
      "|39470.0|         0|   MOW|              NaN|2022-04-02T12:07:28|        ALG| 2022-04-09|     AH| 2022-04-02|\n",
      "|25403.0|         0|   MOW|              2.0|2022-04-01T13:46:41|        TIA| 2022-04-29|     W6| 2022-04-02|\n",
      "|44550.0|         0|   MOW|              1.0|2022-04-02T06:06:22|        ABV| 2022-04-08|     MS| 2022-04-02|\n",
      "|33974.0|         0|   MOW|              2.0|2022-04-02T11:59:19|        FMM| 2022-04-20|     5F| 2022-04-02|\n",
      "+-------+----------+------+-----------------+-------------------+-----------+-----------+-------+-----------+\n",
      "only showing top 20 rows\n",
      "\n"
     ]
    }
   ],
   "source": [
    "# Create the Fact DataFrame\n",
    "with open(r\"ticket_dataset_RusAirports.json\") as file:\n",
    "    dic1 = json.load(file)\n",
    "\n",
    "pandasdf1 =pd.json_normalize(dic1)\n",
    "fact_df1 = spark.createDataFrame(pandasdf1)\n",
    "fact_df1.show()"
   ]
  },
  {
   "cell_type": "code",
   "execution_count": 18,
   "id": "acb982e3-2288-44fd-b27e-1ef29af9fee6",
   "metadata": {
    "tags": []
   },
   "outputs": [
    {
     "name": "stdout",
     "output_type": "stream",
     "text": [
      "root\n",
      " |-- value: double (nullable = true)\n",
      " |-- trip_class: long (nullable = true)\n",
      " |-- origin: string (nullable = true)\n",
      " |-- number_of_changes: double (nullable = true)\n",
      " |-- found_at: string (nullable = true)\n",
      " |-- destination: string (nullable = true)\n",
      " |-- depart_date: string (nullable = true)\n",
      " |-- airline: string (nullable = true)\n",
      " |-- search_date: string (nullable = true)\n",
      "\n"
     ]
    }
   ],
   "source": [
    "fact_df1.printSchema()"
   ]
  },
  {
   "cell_type": "code",
   "execution_count": 19,
   "id": "7513ab4b-6d31-4788-a1c5-9429fb10ddf9",
   "metadata": {
    "tags": []
   },
   "outputs": [],
   "source": [
    "# data type change\n",
    "fact_df1 = fact_df1.withColumn(\"search_date\", f.col(\"search_date\").cast(DateType()))\n",
    "fact_df1 = fact_df1.withColumn(\"depart_date\", f.col(\"depart_date\").cast(DateType()))\n",
    "fact_df1 = fact_df1.withColumn(\"found_at\", f.col(\"found_at\").cast(TimestampType()))\n",
    "fact_df1 = fact_df1.withColumn(\"number_of_changes\", f.col(\"number_of_changes\").cast(IntegerType()))"
   ]
  },
  {
   "cell_type": "code",
   "execution_count": 20,
   "id": "d08acf49-357c-48e9-9286-97f26e26508d",
   "metadata": {
    "tags": []
   },
   "outputs": [
    {
     "name": "stdout",
     "output_type": "stream",
     "text": [
      "root\n",
      " |-- value: double (nullable = true)\n",
      " |-- trip_class: long (nullable = true)\n",
      " |-- origin: string (nullable = true)\n",
      " |-- number_of_changes: integer (nullable = true)\n",
      " |-- found_at: timestamp (nullable = true)\n",
      " |-- destination: string (nullable = true)\n",
      " |-- depart_date: date (nullable = true)\n",
      " |-- airline: string (nullable = true)\n",
      " |-- search_date: date (nullable = true)\n",
      "\n"
     ]
    }
   ],
   "source": [
    "fact_df1.printSchema()"
   ]
  },
  {
   "cell_type": "code",
   "execution_count": 21,
   "id": "03a559a7-b5eb-4bb7-98ba-c838ac64f6c6",
   "metadata": {
    "tags": []
   },
   "outputs": [
    {
     "name": "stdout",
     "output_type": "stream",
     "text": [
      "(106348, 9)\n"
     ]
    }
   ],
   "source": [
    "# number of rows and columns\n",
    "print((fact_df1.count(), len(fact_df1.columns)))"
   ]
  },
  {
   "cell_type": "code",
   "execution_count": 22,
   "id": "d898c2d1-e7cf-4b59-b362-8875d38fbaa9",
   "metadata": {
    "tags": []
   },
   "outputs": [
    {
     "name": "stdout",
     "output_type": "stream",
     "text": [
      "+----------+------+\n",
      "|trip_class| count|\n",
      "+----------+------+\n",
      "|         0|106348|\n",
      "+----------+------+\n",
      "\n",
      "+------+-----+\n",
      "|origin|count|\n",
      "+------+-----+\n",
      "|   MOW|39355|\n",
      "|   KRR|12822|\n",
      "|   AER|14845|\n",
      "|   LED|23663|\n",
      "|   SVX|15663|\n",
      "+------+-----+\n",
      "\n",
      "+-----------------+-----+\n",
      "|number_of_changes|count|\n",
      "+-----------------+-----+\n",
      "|                1|40937|\n",
      "|                6|   24|\n",
      "|                3|11796|\n",
      "|                5|  262|\n",
      "|                4| 1824|\n",
      "|                2|33357|\n",
      "|                0|18148|\n",
      "+-----------------+-----+\n",
      "\n",
      "+-----------+-----+\n",
      "|destination|count|\n",
      "+-----------+-----+\n",
      "|        SCW|  293|\n",
      "|        KGL|   69|\n",
      "|        NBC|  302|\n",
      "|        PMI|  137|\n",
      "|        KKQ|    7|\n",
      "|        NWI|    1|\n",
      "|        FMY|   18|\n",
      "|        CLQ|    4|\n",
      "|        LLA|   25|\n",
      "|        SXB|  127|\n",
      "|        HEL|  225|\n",
      "|        IKS|   70|\n",
      "|        PUF|   14|\n",
      "|        ZCO|    6|\n",
      "|        AAT|    1|\n",
      "|        NYM|  264|\n",
      "|        БАТ|   24|\n",
      "|        RJK|   36|\n",
      "|        SZZ|   24|\n",
      "|        MSY|   23|\n",
      "+-----------+-----+\n",
      "only showing top 20 rows\n",
      "\n",
      "+-------+-----+\n",
      "|airline|count|\n",
      "+-------+-----+\n",
      "|     PC| 7466|\n",
      "|     CI|    7|\n",
      "|     FI|    9|\n",
      "|     UA|  124|\n",
      "|     RO|    2|\n",
      "|     DV|  320|\n",
      "|     W6| 2640|\n",
      "|     XQ|   26|\n",
      "|     U2|   56|\n",
      "|     LA|  136|\n",
      "|     TB|   17|\n",
      "|     AM|   90|\n",
      "|     MK|   57|\n",
      "|     AA|   48|\n",
      "|     AY|  369|\n",
      "|     E9|    1|\n",
      "|     IB|  108|\n",
      "|     5F| 1129|\n",
      "|     GL|    2|\n",
      "|     H1|   16|\n",
      "+-------+-----+\n",
      "only showing top 20 rows\n",
      "\n"
     ]
    }
   ],
   "source": [
    "# frequency of elements in the different columns\n",
    "lista = ['trip_class', 'origin', 'number_of_changes', 'destination', 'airline']\n",
    "\n",
    "for elem in lista:\n",
    "  fact_df1.groupby(elem).count().show()"
   ]
  },
  {
   "cell_type": "code",
   "execution_count": 23,
   "id": "b918bf05-69c2-480c-9ce3-405095058677",
   "metadata": {
    "tags": []
   },
   "outputs": [],
   "source": [
    "# removal of column \"trip_class\" because it contains all its records with the value \"0\"\n",
    "fact_df1 = fact_df1.drop('trip_class')"
   ]
  },
  {
   "cell_type": "code",
   "execution_count": 24,
   "id": "0e4cec3d-46aa-4fca-b581-911daf45b269",
   "metadata": {
    "tags": []
   },
   "outputs": [
    {
     "name": "stdout",
     "output_type": "stream",
     "text": [
      "+-------------------+------+\n",
      "|(value IS NOT NULL)| count|\n",
      "+-------------------+------+\n",
      "|               true|106348|\n",
      "+-------------------+------+\n",
      "\n",
      "+--------------------+------+\n",
      "|(origin IS NOT NULL)| count|\n",
      "+--------------------+------+\n",
      "|                true|106348|\n",
      "+--------------------+------+\n",
      "\n",
      "+-------------------------------+------+\n",
      "|(number_of_changes IS NOT NULL)| count|\n",
      "+-------------------------------+------+\n",
      "|                           true|106348|\n",
      "+-------------------------------+------+\n",
      "\n",
      "+----------------------+------+\n",
      "|(found_at IS NOT NULL)| count|\n",
      "+----------------------+------+\n",
      "|                  true|106348|\n",
      "+----------------------+------+\n",
      "\n",
      "+-------------------------+------+\n",
      "|(destination IS NOT NULL)| count|\n",
      "+-------------------------+------+\n",
      "|                     true|106348|\n",
      "+-------------------------+------+\n",
      "\n",
      "+-------------------------+------+\n",
      "|(depart_date IS NOT NULL)| count|\n",
      "+-------------------------+------+\n",
      "|                     true|106348|\n",
      "+-------------------------+------+\n",
      "\n",
      "+---------------------+------+\n",
      "|(airline IS NOT NULL)| count|\n",
      "+---------------------+------+\n",
      "|                 true|106348|\n",
      "+---------------------+------+\n",
      "\n",
      "+-------------------------+------+\n",
      "|(search_date IS NOT NULL)| count|\n",
      "+-------------------------+------+\n",
      "|                     true|106348|\n",
      "+-------------------------+------+\n",
      "\n"
     ]
    }
   ],
   "source": [
    "# presence (or not) of null values in the different columns\n",
    "lista1 = fact_df1.columns\n",
    "\n",
    "for elem in lista1:\n",
    "  fact_df1.groupby(f.col(elem).isNotNull()).count().show()"
   ]
  },
  {
   "cell_type": "code",
   "execution_count": 25,
   "id": "e07528f5-df3d-46fc-9ba4-4b65ac9cb781",
   "metadata": {
    "tags": []
   },
   "outputs": [
    {
     "name": "stdout",
     "output_type": "stream",
     "text": [
      "106348\n",
      "106348\n"
     ]
    }
   ],
   "source": [
    "# elimination of duplicate records\n",
    "print(fact_df1.count())\n",
    "print(fact_df1.dropDuplicates().count())"
   ]
  },
  {
   "cell_type": "code",
   "execution_count": 26,
   "id": "8e9f1fb7-562c-412c-bc0c-cc50e1a7cadf",
   "metadata": {
    "tags": []
   },
   "outputs": [
    {
     "name": "stdout",
     "output_type": "stream",
     "text": [
      "+---------+------------+--------------------+----------+--------------------+----+---------+--------------------+---------------+---------------+\n",
      "|city_code|country_code|           time_zone|flightable|                name|code|iata_type|name_translations.en|coordinates.lat|coordinates.lon|\n",
      "+---------+------------+--------------------+----------+--------------------+----+---------+--------------------+---------------+---------------+\n",
      "|      PIT|          US|    America/New_York|      true|Питтсбург Интернэ...| PIT|  airport|Pittsburgh Intern...|       40.49585|      -80.25657|\n",
      "|      GAL|          US|   America/Anchorage|      true|              Галена| GAL|  airport|Edward G. Pitka S...|       64.73798|     -156.94186|\n",
      "|      YAG|          CA|    America/Winnipeg|      true|        Форт-Франсес| YAG|  airport|Fort Frances Muni...|       48.65278|      -93.44722|\n",
      "|      ILD|          ES|       Europe/Madrid|      true|  Льейда (жд вокзал)| QLQ|  railway|Lleida Railway St...|       41.61667|        0.63333|\n",
      "|      SVX|          RU|  Asia/Yekaterinburg|      true|            Кольцово| SVX|  airport|Koltsovo Internat...|      56.750336|      60.804314|\n",
      "|      MTJ|          US|      America/Denver|      true|             Монтроз| MTJ|  airport|Montrose Regional...|       38.51029|     -107.89696|\n",
      "|      JOI|          BR|   America/Sao_Paulo|      true|Лауро Карнейро де...| JOI|  airport|Joinville-Lauro C...|     -26.233334|     -48.783333|\n",
      "|      EGE|          US|      America/Denver|      true|   Вейл (автовокзал)| ZBV|      bus|Beaver Creek Bus ...|      39.640263|      -106.3742|\n",
      "|      RRS|          NO|         Europe/Oslo|      true|               Рёрус| RRS|  airport|       Roros Airport|      62.579166|      11.345556|\n",
      "|      PDX|          US| America/Los_Angeles|      true|            Портленд| PDX|  airport|Portland Internat...|      45.588997|      -122.5929|\n",
      "|      CZS|          BR|  America/Rio_Branco|      true|     Крузейру-ду-Сул| CZS|  airport|Campo Internacion...|      -7.583333|      -72.78333|\n",
      "|      TAS|          UZ|       Asia/Tashkent|      true|             Ташкент| TAS|  airport|      Yuzhny Airport|      41.262714|       69.26619|\n",
      "|      JUJ|          AR|America/Argentina...|      true|         Эль-Кадийал| JUJ|  airport| El Cadillal Airport|          -24.4|     -65.083336|\n",
      "|      NRL|          GB|       Europe/London|      true|     Норт-Рональдсей| NRL|  airport|North Ronaldsay A...|      59.370277|      -2.433333|\n",
      "|      OGL|          GY|      America/Guyana|      true|                 Огл| OGL|  airport|        Ogle Airport|            6.8|     -58.105556|\n",
      "|      YZV|          CA|    America/Montreal|      true|             Сет-Иль| YZV|  airport|   Sept-Iles Airport|       50.21751|      -66.26404|\n",
      "|      NKG|          CN|       Asia/Shanghai|      true|              Нанкин| NKG|  airport|Nanjing Lukou Int...|      31.735737|      118.86652|\n",
      "|      AAR|          DK|   Europe/Copenhagen|      true|            Тирструп| AAR|  airport|      Aarhus Airport|       56.30823|      10.626351|\n",
      "|      YVP|          CA|    America/Montreal|      true|            Кууджуак| YVP|  airport|    Kuujjuaq Airport|       58.10024|      -68.41798|\n",
      "|      BJV|          TR|     Europe/Istanbul|      true|               Милас| BJV|  airport|Milas-Bodrum Airport|      37.243954|      27.672781|\n",
      "+---------+------------+--------------------+----------+--------------------+----+---------+--------------------+---------------+---------------+\n",
      "only showing top 20 rows\n",
      "\n"
     ]
    }
   ],
   "source": [
    "# Create the Dim DataFrame\n",
    "with open(r\"IATA_Airports.json\") as file:\n",
    "    dic2 = json.load(file)\n",
    "\n",
    "pandasdf2 =pd.json_normalize(dic2)\n",
    "dim_df2 = spark.createDataFrame(pandasdf2)\n",
    "dim_df2.show()"
   ]
  },
  {
   "cell_type": "code",
   "execution_count": 27,
   "id": "c36b0c2d-f044-4bfe-b05a-aad6daf45186",
   "metadata": {
    "tags": []
   },
   "outputs": [],
   "source": [
    "dim_df2 = dim_df2.drop(\"city_code\")"
   ]
  },
  {
   "cell_type": "code",
   "execution_count": 28,
   "id": "57d5f49e-a04d-4a3d-a914-ebc7cf567fcf",
   "metadata": {
    "tags": []
   },
   "outputs": [
    {
     "name": "stdout",
     "output_type": "stream",
     "text": [
      "root\n",
      " |-- country_code: string (nullable = true)\n",
      " |-- time_zone: string (nullable = true)\n",
      " |-- flightable: boolean (nullable = true)\n",
      " |-- name: string (nullable = true)\n",
      " |-- code: string (nullable = true)\n",
      " |-- iata_type: string (nullable = true)\n",
      " |-- name_translations.en: string (nullable = true)\n",
      " |-- coordinates.lat: double (nullable = true)\n",
      " |-- coordinates.lon: double (nullable = true)\n",
      "\n"
     ]
    }
   ],
   "source": [
    "dim_df2.printSchema()"
   ]
  },
  {
   "cell_type": "code",
   "execution_count": 29,
   "id": "4a9a477b-32fe-4617-b651-6d642a4b5811",
   "metadata": {
    "tags": []
   },
   "outputs": [],
   "source": [
    "# column rename\n",
    "dim_df2 = dim_df2.withColumnRenamed(\"name\", \"airport_name\")\n",
    "dim_df2 = dim_df2.withColumnRenamed(\"name_translations.en\", \"airport_name_translations\")\n",
    "dim_df2 = dim_df2.withColumnRenamed(\"coordinates.lat\", \"airport_latitude\")\n",
    "dim_df2 = dim_df2.withColumnRenamed(\"coordinates.lon\", \"airport_longitude\")"
   ]
  },
  {
   "cell_type": "code",
   "execution_count": 30,
   "id": "8120f37f-bd8a-4866-b8ee-917e400ad4c2",
   "metadata": {
    "tags": []
   },
   "outputs": [
    {
     "name": "stdout",
     "output_type": "stream",
     "text": [
      "(3547, 9)\n"
     ]
    }
   ],
   "source": [
    "# number of rows and columns\n",
    "print((dim_df2.count(), len(dim_df2.columns)))"
   ]
  },
  {
   "cell_type": "code",
   "execution_count": 31,
   "id": "5a2004eb-ced0-455a-943d-3e7977f6884a",
   "metadata": {
    "tags": []
   },
   "outputs": [
    {
     "name": "stdout",
     "output_type": "stream",
     "text": [
      "+--------------------------+-----+\n",
      "|(country_code IS NOT NULL)|count|\n",
      "+--------------------------+-----+\n",
      "|                      true| 3547|\n",
      "+--------------------------+-----+\n",
      "\n",
      "+-----------------------+-----+\n",
      "|(time_zone IS NOT NULL)|count|\n",
      "+-----------------------+-----+\n",
      "|                   true| 3547|\n",
      "+-----------------------+-----+\n",
      "\n",
      "+------------------------+-----+\n",
      "|(flightable IS NOT NULL)|count|\n",
      "+------------------------+-----+\n",
      "|                    true| 3547|\n",
      "+------------------------+-----+\n",
      "\n",
      "+--------------------------+-----+\n",
      "|(airport_name IS NOT NULL)|count|\n",
      "+--------------------------+-----+\n",
      "|                      true| 3390|\n",
      "|                     false|  157|\n",
      "+--------------------------+-----+\n",
      "\n",
      "+------------------+-----+\n",
      "|(code IS NOT NULL)|count|\n",
      "+------------------+-----+\n",
      "|              true| 3547|\n",
      "+------------------+-----+\n",
      "\n",
      "+-----------------------+-----+\n",
      "|(iata_type IS NOT NULL)|count|\n",
      "+-----------------------+-----+\n",
      "|                   true| 3547|\n",
      "+-----------------------+-----+\n",
      "\n",
      "+---------------------------------------+-----+\n",
      "|(airport_name_translations IS NOT NULL)|count|\n",
      "+---------------------------------------+-----+\n",
      "|                                   true| 3547|\n",
      "+---------------------------------------+-----+\n",
      "\n",
      "+------------------------------+-----+\n",
      "|(airport_latitude IS NOT NULL)|count|\n",
      "+------------------------------+-----+\n",
      "|                          true| 3547|\n",
      "+------------------------------+-----+\n",
      "\n",
      "+-------------------------------+-----+\n",
      "|(airport_longitude IS NOT NULL)|count|\n",
      "+-------------------------------+-----+\n",
      "|                           true| 3547|\n",
      "+-------------------------------+-----+\n",
      "\n"
     ]
    }
   ],
   "source": [
    "# presence (or not) of null values in the different columns\n",
    "lista2 = dim_df2.columns\n",
    "\n",
    "for elem in lista2:\n",
    "  dim_df2.groupby(f.col(elem).isNotNull()).count().show()"
   ]
  },
  {
   "cell_type": "code",
   "execution_count": 32,
   "id": "51553220-fbce-44cb-bd36-fe8e8468182e",
   "metadata": {
    "tags": []
   },
   "outputs": [
    {
     "name": "stdout",
     "output_type": "stream",
     "text": [
      "+-------------------+----+------------------------------------+\n",
      "|name               |code|name_translations.en                |\n",
      "+-------------------+----+------------------------------------+\n",
      "|null               |DN  |Norwegian Air                       |\n",
      "|null               |AI  |Air India                           |\n",
      "|null               |V1  |IBS Software Services Americas, Inc.|\n",
      "|null               |DE  |Condor                              |\n",
      "|Аврора             |HZ  |Aurora                              |\n",
      "|null               |WX  |Cityjet                             |\n",
      "|Air Mekong         |P8  |Air Mekong                          |\n",
      "|Белавиа            |B2  |Belavia                             |\n",
      "|null               |2D  |Eastern Airlines, LLC               |\n",
      "|null               |2I  |Star Peru                           |\n",
      "|null               |AF  |Air France                          |\n",
      "|Ellinair           |EL  |Ellinair                            |\n",
      "|North Flying       |M3  |North Flying                        |\n",
      "|null               |SV  |Saudia                              |\n",
      "|null               |FM  |Shanghai Airlines                   |\n",
      "|La Compagnie       |B0  |La Compagnie                        |\n",
      "|Safarilink Aviation|F2  |Safarilink Aviation                 |\n",
      "|null               |JQ  |Jetstar                             |\n",
      "|null               |D5  |DHL Aero Expreso S.A.               |\n",
      "|null               |VC  |Charter Air Transport, Inc.         |\n",
      "+-------------------+----+------------------------------------+\n",
      "only showing top 20 rows\n",
      "\n"
     ]
    }
   ],
   "source": [
    "# Create the Dim DataFrame\n",
    "with open(r\"IATA_Airlines.json\") as file:\n",
    "    dic3 = json.load(file)\n",
    "\n",
    "pandasdf3 =pd.json_normalize(dic3)\n",
    "dim_df3 = spark.createDataFrame(pandasdf3)\n",
    "dim_df3.show(truncate = False)"
   ]
  },
  {
   "cell_type": "code",
   "execution_count": 33,
   "id": "c603498f-6196-4c9a-83ff-02f730c70d81",
   "metadata": {
    "tags": []
   },
   "outputs": [
    {
     "name": "stdout",
     "output_type": "stream",
     "text": [
      "+------------------+-----+\n",
      "|(name IS NOT NULL)|count|\n",
      "+------------------+-----+\n",
      "|              true|  409|\n",
      "|             false|  658|\n",
      "+------------------+-----+\n",
      "\n"
     ]
    }
   ],
   "source": [
    "# presence of null values in the column \"name\"\n",
    "dim_df3.groupby(f.col(\"name\").isNotNull()).count().show()"
   ]
  },
  {
   "cell_type": "code",
   "execution_count": 34,
   "id": "8a663c4a-41df-40f3-9c99-e8cd72a9f9b7",
   "metadata": {
    "tags": []
   },
   "outputs": [],
   "source": [
    "# removing the \"name\" column\n",
    "dim_df3 = dim_df3.drop(\"name\")"
   ]
  },
  {
   "cell_type": "code",
   "execution_count": 35,
   "id": "feffe7b2-88ef-4ebd-bced-419290451c30",
   "metadata": {
    "tags": []
   },
   "outputs": [
    {
     "name": "stdout",
     "output_type": "stream",
     "text": [
      "root\n",
      " |-- code: string (nullable = true)\n",
      " |-- name_translations.en: string (nullable = true)\n",
      "\n",
      "+----+------------------------------------+\n",
      "|code|name_translations.en                |\n",
      "+----+------------------------------------+\n",
      "|DN  |Norwegian Air                       |\n",
      "|AI  |Air India                           |\n",
      "|V1  |IBS Software Services Americas, Inc.|\n",
      "|DE  |Condor                              |\n",
      "|HZ  |Aurora                              |\n",
      "|WX  |Cityjet                             |\n",
      "|P8  |Air Mekong                          |\n",
      "|B2  |Belavia                             |\n",
      "|2D  |Eastern Airlines, LLC               |\n",
      "|2I  |Star Peru                           |\n",
      "|AF  |Air France                          |\n",
      "|EL  |Ellinair                            |\n",
      "|M3  |North Flying                        |\n",
      "|SV  |Saudia                              |\n",
      "|FM  |Shanghai Airlines                   |\n",
      "|B0  |La Compagnie                        |\n",
      "|F2  |Safarilink Aviation                 |\n",
      "|JQ  |Jetstar                             |\n",
      "|D5  |DHL Aero Expreso S.A.               |\n",
      "|VC  |Charter Air Transport, Inc.         |\n",
      "+----+------------------------------------+\n",
      "only showing top 20 rows\n",
      "\n"
     ]
    }
   ],
   "source": [
    "dim_df3.printSchema()\n",
    "dim_df3.show(truncate = False)"
   ]
  },
  {
   "cell_type": "code",
   "execution_count": 36,
   "id": "8e32354d-da0a-4b97-a620-8117b71b60d4",
   "metadata": {
    "tags": []
   },
   "outputs": [
    {
     "name": "stdout",
     "output_type": "stream",
     "text": [
      "(1067, 2)\n"
     ]
    }
   ],
   "source": [
    "# number of rows and columns\n",
    "print((dim_df3.count(), len(dim_df3.columns)))"
   ]
  },
  {
   "cell_type": "code",
   "execution_count": 37,
   "id": "f907543a-aed2-42d3-82ad-97f91b12a947",
   "metadata": {
    "tags": []
   },
   "outputs": [
    {
     "name": "stdout",
     "output_type": "stream",
     "text": [
      "+-------+------+-----------------+-------------------+-----------+-----------+-------+-----------+----+--------------------+\n",
      "|  value|origin|number_of_changes|           found_at|destination|depart_date|airline|search_date|code|name_translations.en|\n",
      "+-------+------+-----------------+-------------------+-----------+-----------+-------+-----------+----+--------------------+\n",
      "|18768.0|   MOW|                1|2022-02-03 12:15:36|        MED| 2022-10-15|     PC| 2022-02-10|  PC|    Pegasus Airlines|\n",
      "|11270.0|   MOW|                1|2022-02-05 08:19:15|        SJJ| 2022-10-01|     PC| 2022-02-10|  PC|    Pegasus Airlines|\n",
      "|11721.0|   MOW|                1|2022-02-07 09:00:09|        AJI| 2022-10-10|     PC| 2022-02-10|  PC|    Pegasus Airlines|\n",
      "|10339.0|   MOW|                1|2022-02-03 15:01:46|        ECN| 2022-10-22|     PC| 2022-02-10|  PC|    Pegasus Airlines|\n",
      "|16661.0|   MOW|                2|2022-02-07 14:22:59|        NAV| 2022-10-01|     PC| 2022-02-10|  PC|    Pegasus Airlines|\n",
      "|12613.0|   MOW|                1|2022-02-09 13:11:12|        KWI| 2022-10-13|     PC| 2022-02-10|  PC|    Pegasus Airlines|\n",
      "|10232.0|   MOW|                1|2022-02-09 00:37:28|        ADA| 2022-10-03|     PC| 2022-02-10|  PC|    Pegasus Airlines|\n",
      "|20135.0|   MOW|                1|2022-02-07 07:30:18|        MED| 2022-09-29|     PC| 2022-02-10|  PC|    Pegasus Airlines|\n",
      "|18697.0|   MOW|                1|2022-02-06 14:47:18|        BGW| 2022-09-01|     PC| 2022-02-10|  PC|    Pegasus Airlines|\n",
      "|10208.0|   MOW|                1|2022-02-08 14:39:24|        ANK| 2022-09-12|     PC| 2022-02-10|  PC|    Pegasus Airlines|\n",
      "|19815.0|   MOW|                1|2022-02-04 18:57:19|        JED| 2022-09-05|     PC| 2022-02-10|  PC|    Pegasus Airlines|\n",
      "| 9555.0|   MOW|                1|2022-02-09 09:25:04|        EDO| 2022-09-04|     PC| 2022-02-10|  PC|    Pegasus Airlines|\n",
      "|12310.0|   MOW|                1|2022-02-05 12:32:38|        OZH| 2022-09-03|     PC| 2022-02-10|  PC|    Pegasus Airlines|\n",
      "|10378.0|   MOW|                1|2022-02-09 16:37:05|        ADA| 2022-09-05|     PC| 2022-02-10|  PC|    Pegasus Airlines|\n",
      "|11534.0|   MOW|                1|2022-02-07 12:02:37|        KSY| 2022-09-06|     PC| 2022-02-10|  PC|    Pegasus Airlines|\n",
      "|13662.0|   MOW|                1|2022-02-09 22:33:25|        THR| 2022-09-10|     PC| 2022-02-10|  PC|    Pegasus Airlines|\n",
      "|10158.0|   MOW|                1|2022-02-05 14:08:22|        IZM| 2022-09-12|     PC| 2022-02-10|  PC|    Pegasus Airlines|\n",
      "|19085.0|   MOW|                1|2022-02-08 09:33:16|        BGW| 2022-08-07|     PC| 2022-02-10|  PC|    Pegasus Airlines|\n",
      "|19137.0|   MOW|                1|2022-02-09 15:19:28|        JED| 2022-08-28|     PC| 2022-02-10|  PC|    Pegasus Airlines|\n",
      "|12738.0|   MOW|                1|2022-02-09 08:15:48|        VAN| 2022-08-06|     PC| 2022-02-10|  PC|    Pegasus Airlines|\n",
      "+-------+------+-----------------+-------------------+-----------+-----------+-------+-----------+----+--------------------+\n",
      "only showing top 20 rows\n",
      "\n"
     ]
    }
   ],
   "source": [
    "# union of dataframes \"fact_df1\" and \"dim_df3\"\n",
    "merged_df =fact_df1.join(dim_df3, fact_df1.airline == dim_df3.code, \"inner\")\n",
    "merged_df.show()"
   ]
  },
  {
   "cell_type": "code",
   "execution_count": 38,
   "id": "ab9bd70b-f1de-4bf6-a369-5418cad184df",
   "metadata": {
    "tags": []
   },
   "outputs": [],
   "source": [
    "merged_df = merged_df.drop(\"airline\")\n",
    "merged_df = merged_df.withColumnRenamed(\"code\", \"airline_code\")\n",
    "merged_df = merged_df.withColumnRenamed(\"name_translations.en\", \"airline_name_translations\")"
   ]
  },
  {
   "cell_type": "code",
   "execution_count": 39,
   "id": "dd55ae3e-2240-434c-b34e-8d78443590ca",
   "metadata": {
    "tags": []
   },
   "outputs": [
    {
     "name": "stdout",
     "output_type": "stream",
     "text": [
      "+-------+------+-----------------+-------------------+-----------+-----------+-----------+------------+-------------------------+------------+-----------------+----------+--------------------+----+---------+-------------------------+----------------+-----------------+\n",
      "|  value|origin|number_of_changes|           found_at|destination|depart_date|search_date|airline_code|airline_name_translations|country_code|        time_zone|flightable|        airport_name|code|iata_type|airport_name_translations|airport_latitude|airport_longitude|\n",
      "+-------+------+-----------------+-------------------+-----------+-----------+-----------+------------+-------------------------+------------+-----------------+----------+--------------------+----+---------+-------------------------+----------------+-----------------+\n",
      "|18768.0|   MOW|                1|2022-02-03 12:15:36|        MED| 2022-10-15| 2022-02-10|          PC|         Pegasus Airlines|          SA|      Asia/Riyadh|      true|              Медина| MED|  airport|     Prince Mohammad B...|       24.544369|        39.698967|\n",
      "|11270.0|   MOW|                1|2022-02-05 08:19:15|        SJJ| 2022-10-01| 2022-02-10|          PC|         Pegasus Airlines|          BA|  Europe/Sarajevo|      true|              Батмир| SJJ|  airport|     Sarajevo Internat...|       43.826687|        18.336065|\n",
      "|11721.0|   MOW|                1|2022-02-07 09:00:09|        AJI| 2022-10-10| 2022-02-10|          PC|         Pegasus Airlines|          TR|  Europe/Istanbul|      true|                Агры| AJI|  airport|             Agri Airport|           39.65|           43.025|\n",
      "|10339.0|   MOW|                1|2022-02-03 15:01:46|        ECN| 2022-10-22| 2022-02-10|          PC|         Pegasus Airlines|          CY|     Asia/Nicosia|      true|              Эрджан| ECN|  airport|            Ercan Airport|        35.15812|         33.50307|\n",
      "|16661.0|   MOW|                2|2022-02-07 14:22:59|        NAV| 2022-10-01| 2022-02-10|          PC|         Pegasus Airlines|          TR|  Europe/Istanbul|      true|            Невшехир| NAV|  airport|                 Nevsehir|        38.63333|        34.716667|\n",
      "|12613.0|   MOW|                1|2022-02-09 13:11:12|        KWI| 2022-10-13| 2022-02-10|          PC|         Pegasus Airlines|          KW|      Asia/Kuwait|      true|              Кувейт| KWI|  airport|     Kuwait Internatio...|       29.240116|        47.971252|\n",
      "|10232.0|   MOW|                1|2022-02-09 00:37:28|        ADA| 2022-10-03| 2022-02-10|          PC|         Pegasus Airlines|          TR|  Europe/Istanbul|      true|           Шакирпаша| ADA|  airport|            Adana Airport|        36.98503|         35.29736|\n",
      "|20135.0|   MOW|                1|2022-02-07 07:30:18|        MED| 2022-09-29| 2022-02-10|          PC|         Pegasus Airlines|          SA|      Asia/Riyadh|      true|              Медина| MED|  airport|     Prince Mohammad B...|       24.544369|        39.698967|\n",
      "|18697.0|   MOW|                1|2022-02-06 14:47:18|        BGW| 2022-09-01| 2022-02-10|          PC|         Pegasus Airlines|          IQ|     Asia/Baghdad|      true|              Багдад| BGW|  airport|     Baghdad Internati...|       33.255554|           44.225|\n",
      "|19815.0|   MOW|                1|2022-02-04 18:57:19|        JED| 2022-09-05| 2022-02-10|          PC|         Pegasus Airlines|          SA|      Asia/Riyadh|      true|              Джидда| JED|  airport|     King Abdulaziz In...|       21.670233|        39.150578|\n",
      "| 9555.0|   MOW|                1|2022-02-09 09:25:04|        EDO| 2022-09-04| 2022-02-10|          PC|         Pegasus Airlines|          TR|  Europe/Istanbul|      true|      Эдремит-Корфез| EDO|  airport|     Balikesir Koca Se...|       39.583332|        27.033333|\n",
      "|12310.0|   MOW|                1|2022-02-05 12:32:38|        OZH| 2022-09-03| 2022-02-10|          PC|         Pegasus Airlines|          UA|Europe/Zaporozhye|      true|           Запорожье| OZH|  airport|       Zaporozhye Airport|         47.8675|        35.315834|\n",
      "|10378.0|   MOW|                1|2022-02-09 16:37:05|        ADA| 2022-09-05| 2022-02-10|          PC|         Pegasus Airlines|          TR|  Europe/Istanbul|      true|           Шакирпаша| ADA|  airport|            Adana Airport|        36.98503|         35.29736|\n",
      "|11534.0|   MOW|                1|2022-02-07 12:02:37|        KSY| 2022-09-06| 2022-02-10|          PC|         Pegasus Airlines|          TR|  Europe/Istanbul|      true|                Карс| KSY|  airport|             Kars Airport|       40.551666|        43.085835|\n",
      "|13662.0|   MOW|                1|2022-02-09 22:33:25|        THR| 2022-09-10| 2022-02-10|          PC|         Pegasus Airlines|          IR|      Asia/Tehran|      true|Международный аэр...| THR|  airport|     Mehrabad Internat...|       35.691532|         51.32187|\n",
      "|19085.0|   MOW|                1|2022-02-08 09:33:16|        BGW| 2022-08-07| 2022-02-10|          PC|         Pegasus Airlines|          IQ|     Asia/Baghdad|      true|              Багдад| BGW|  airport|     Baghdad Internati...|       33.255554|           44.225|\n",
      "|19137.0|   MOW|                1|2022-02-09 15:19:28|        JED| 2022-08-28| 2022-02-10|          PC|         Pegasus Airlines|          SA|      Asia/Riyadh|      true|              Джидда| JED|  airport|     King Abdulaziz In...|       21.670233|        39.150578|\n",
      "|12738.0|   MOW|                1|2022-02-09 08:15:48|        VAN| 2022-08-06| 2022-02-10|          PC|         Pegasus Airlines|          TR|  Europe/Istanbul|      true|                 Ван| VAN|  airport|     Van Ferit Melen A...|        38.45861|        43.332222|\n",
      "|28083.0|   MOW|                2|2022-02-05 03:09:22|        BSR| 2022-08-01| 2022-02-10|          PC|         Pegasus Airlines|          IQ|     Asia/Baghdad|      true|               Басра| BSR|  airport|     Basra Internation...|       30.555555|         47.79139|\n",
      "|21420.0|   MOW|                1|2022-02-05 21:19:26|        DOH| 2022-08-29| 2022-02-10|          PC|         Pegasus Airlines|          QA|       Asia/Qatar|      true|                Доха| DOH|  airport|     Hamad Internation...|       25.267569|        51.558067|\n",
      "+-------+------+-----------------+-------------------+-----------+-----------+-----------+------------+-------------------------+------------+-----------------+----------+--------------------+----+---------+-------------------------+----------------+-----------------+\n",
      "only showing top 20 rows\n",
      "\n"
     ]
    }
   ],
   "source": [
    "# union of dataframes \"merged_df\" and \"dim_df2\" and creation of the final dataframe \"sparkdf\"\n",
    "sparkdf = merged_df.join(dim_df2, merged_df.destination == dim_df2.code, \"inner\")\n",
    "sparkdf.show()"
   ]
  },
  {
   "cell_type": "code",
   "execution_count": 40,
   "id": "03da34b4-1f1f-4b3a-8c47-79532b386e76",
   "metadata": {
    "tags": []
   },
   "outputs": [],
   "source": [
    "sparkdf = sparkdf.drop(\"code\")"
   ]
  },
  {
   "cell_type": "code",
   "execution_count": 41,
   "id": "277dd1f6-48b5-411d-bb56-288538d0f2b8",
   "metadata": {
    "tags": []
   },
   "outputs": [
    {
     "name": "stdout",
     "output_type": "stream",
     "text": [
      "root\n",
      " |-- value: double (nullable = true)\n",
      " |-- origin: string (nullable = true)\n",
      " |-- number_of_changes: integer (nullable = true)\n",
      " |-- found_at: timestamp (nullable = true)\n",
      " |-- destination: string (nullable = true)\n",
      " |-- depart_date: date (nullable = true)\n",
      " |-- search_date: date (nullable = true)\n",
      " |-- airline_code: string (nullable = true)\n",
      " |-- airline_name_translations: string (nullable = true)\n",
      " |-- country_code: string (nullable = true)\n",
      " |-- time_zone: string (nullable = true)\n",
      " |-- flightable: boolean (nullable = true)\n",
      " |-- airport_name: string (nullable = true)\n",
      " |-- iata_type: string (nullable = true)\n",
      " |-- airport_name_translations: string (nullable = true)\n",
      " |-- airport_latitude: double (nullable = true)\n",
      " |-- airport_longitude: double (nullable = true)\n",
      "\n"
     ]
    }
   ],
   "source": [
    "sparkdf.printSchema()"
   ]
  },
  {
   "cell_type": "code",
   "execution_count": 42,
   "id": "fa7e6ed1-51a2-43c1-b7d6-9bdb5297184c",
   "metadata": {
    "tags": []
   },
   "outputs": [
    {
     "name": "stdout",
     "output_type": "stream",
     "text": [
      "(97859, 17)\n"
     ]
    }
   ],
   "source": [
    "# number of rows and columns\n",
    "print((sparkdf.count(), len(sparkdf.columns)))"
   ]
  },
  {
   "cell_type": "code",
   "execution_count": 43,
   "id": "2014ff52-cb5d-417d-b701-d78f6d832600",
   "metadata": {
    "tags": []
   },
   "outputs": [
    {
     "name": "stdout",
     "output_type": "stream",
     "text": [
      "+-------------------+-----+\n",
      "|(value IS NOT NULL)|count|\n",
      "+-------------------+-----+\n",
      "|               true|97859|\n",
      "+-------------------+-----+\n",
      "\n",
      "+--------------------+-----+\n",
      "|(origin IS NOT NULL)|count|\n",
      "+--------------------+-----+\n",
      "|                true|97859|\n",
      "+--------------------+-----+\n",
      "\n",
      "+-------------------------------+-----+\n",
      "|(number_of_changes IS NOT NULL)|count|\n",
      "+-------------------------------+-----+\n",
      "|                           true|97859|\n",
      "+-------------------------------+-----+\n",
      "\n",
      "+----------------------+-----+\n",
      "|(found_at IS NOT NULL)|count|\n",
      "+----------------------+-----+\n",
      "|                  true|97859|\n",
      "+----------------------+-----+\n",
      "\n",
      "+-------------------------+-----+\n",
      "|(destination IS NOT NULL)|count|\n",
      "+-------------------------+-----+\n",
      "|                     true|97859|\n",
      "+-------------------------+-----+\n",
      "\n",
      "+-------------------------+-----+\n",
      "|(depart_date IS NOT NULL)|count|\n",
      "+-------------------------+-----+\n",
      "|                     true|97859|\n",
      "+-------------------------+-----+\n",
      "\n",
      "+-------------------------+-----+\n",
      "|(search_date IS NOT NULL)|count|\n",
      "+-------------------------+-----+\n",
      "|                     true|97859|\n",
      "+-------------------------+-----+\n",
      "\n",
      "+--------------------------+-----+\n",
      "|(airline_code IS NOT NULL)|count|\n",
      "+--------------------------+-----+\n",
      "|                      true|97859|\n",
      "+--------------------------+-----+\n",
      "\n",
      "+---------------------------------------+-----+\n",
      "|(airline_name_translations IS NOT NULL)|count|\n",
      "+---------------------------------------+-----+\n",
      "|                                   true|97859|\n",
      "+---------------------------------------+-----+\n",
      "\n",
      "+--------------------------+-----+\n",
      "|(country_code IS NOT NULL)|count|\n",
      "+--------------------------+-----+\n",
      "|                      true|97859|\n",
      "+--------------------------+-----+\n",
      "\n",
      "+-----------------------+-----+\n",
      "|(time_zone IS NOT NULL)|count|\n",
      "+-----------------------+-----+\n",
      "|                   true|97859|\n",
      "+-----------------------+-----+\n",
      "\n",
      "+------------------------+-----+\n",
      "|(flightable IS NOT NULL)|count|\n",
      "+------------------------+-----+\n",
      "|                    true|97859|\n",
      "+------------------------+-----+\n",
      "\n",
      "+--------------------------+-----+\n",
      "|(airport_name IS NOT NULL)|count|\n",
      "+--------------------------+-----+\n",
      "|                      true|97744|\n",
      "|                     false|  115|\n",
      "+--------------------------+-----+\n",
      "\n",
      "+-----------------------+-----+\n",
      "|(iata_type IS NOT NULL)|count|\n",
      "+-----------------------+-----+\n",
      "|                   true|97859|\n",
      "+-----------------------+-----+\n",
      "\n",
      "+---------------------------------------+-----+\n",
      "|(airport_name_translations IS NOT NULL)|count|\n",
      "+---------------------------------------+-----+\n",
      "|                                   true|97859|\n",
      "+---------------------------------------+-----+\n",
      "\n",
      "+------------------------------+-----+\n",
      "|(airport_latitude IS NOT NULL)|count|\n",
      "+------------------------------+-----+\n",
      "|                          true|97859|\n",
      "+------------------------------+-----+\n",
      "\n",
      "+-------------------------------+-----+\n",
      "|(airport_longitude IS NOT NULL)|count|\n",
      "+-------------------------------+-----+\n",
      "|                           true|97859|\n",
      "+-------------------------------+-----+\n",
      "\n"
     ]
    }
   ],
   "source": [
    "# presence (or not) of null values in the different columns\n",
    "lista3 = sparkdf.columns\n",
    "\n",
    "for elem in lista3:\n",
    "  sparkdf.groupby(f.col(elem).isNotNull()).count().show()"
   ]
  },
  {
   "cell_type": "code",
   "execution_count": 44,
   "id": "abefaaba-5837-4ce2-a7fd-28d6af01631b",
   "metadata": {
    "tags": []
   },
   "outputs": [
    {
     "name": "stdout",
     "output_type": "stream",
     "text": [
      "(97744, 17)\n"
     ]
    }
   ],
   "source": [
    "# removal of null records corresponding to column \"name\" and subsequent counting of rows\n",
    "sparkdf = sparkdf.na.drop(subset= \"airport_name\")\n",
    "print((sparkdf.count(), len(sparkdf.columns)))"
   ]
  },
  {
   "cell_type": "code",
   "execution_count": 45,
   "id": "29cfba6f-1d27-4d4a-8986-5e36c782341f",
   "metadata": {
    "tags": []
   },
   "outputs": [
    {
     "name": "stdout",
     "output_type": "stream",
     "text": [
      "+-------+------------------+------+------------------+-----------+------------------+-------------------------+------------+--------------+------------+---------+-------------------------+------------------+-----------------+\n",
      "|summary|             value|origin| number_of_changes|destination|      airline_code|airline_name_translations|country_code|     time_zone|airport_name|iata_type|airport_name_translations|  airport_latitude|airport_longitude|\n",
      "+-------+------------------+------+------------------+-----------+------------------+-------------------------+------------+--------------+------------+---------+-------------------------+------------------+-----------------+\n",
      "|  count|             97744| 97744|             97744|      97744|             97744|                    97744|       97744|         97744|       97744|    97744|                    97744|             97744|            97744|\n",
      "|   mean|29167.953981830087|  null|1.4081068914715993|        NaN| 4.792763157894737|                     null|        null|          null|        null|     null|                     null|39.218873809443345|38.15628402594358|\n",
      "| stddev| 38565.99175938794|  null|0.9711712459156213|        NaN|0.6097805824019522|                     null|        null|          null|        null|     null|                     null|19.889612194702487|53.01246587032211|\n",
      "|    min|             888.0|   AER|                 0|        AAE|                2L|                   ALROSA|          AE|              |      Абакан|  airline|         A Coruna Airport|        -54.839348|       -171.99724|\n",
      "|    max|         1597176.0|   SVX|                 6|        ТАУ|                ZF|            iFly Airlines|          ZW|Pacific/Tahiti|        Яссы|  airport|         Zyryanka Airport|         78.208885|        179.33913|\n",
      "+-------+------------------+------+------------------+-----------+------------------+-------------------------+------------+--------------+------------+---------+-------------------------+------------------+-----------------+\n",
      "\n"
     ]
    }
   ],
   "source": [
    "sparkdf.describe().show()"
   ]
  },
  {
   "cell_type": "code",
   "execution_count": 46,
   "id": "7b3406ef-e970-4db6-ae6f-cde65654f007",
   "metadata": {
    "tags": []
   },
   "outputs": [],
   "source": [
    "# creation of column \"class\" (function of column \"value\")\n",
    "sparkdf = sparkdf.withColumn(\"class\", \\\n",
    "   f.when((sparkdf.value > 100000), f.lit(\"A\")) \\\n",
    "     .when((sparkdf.value >= 15000) & (sparkdf.value <= 100000), f.lit(\"B\")) \\\n",
    "     .otherwise(f.lit(\"C\")) \\\n",
    "  )"
   ]
  },
  {
   "cell_type": "code",
   "execution_count": 47,
   "id": "88ddd372-a245-4ac0-b77d-70fda9c5a9aa",
   "metadata": {
    "tags": []
   },
   "outputs": [],
   "source": [
    "# function defined by user \"replace_character\" and implemented in column \"time_zone\"\n",
    "replace_character = f.udf(lambda x: x.replace(\"/\",\"-\"), StringType())\n",
    "sparkdf = sparkdf.withColumn(\"time_zone\", replace_character(\"time_zone\"))"
   ]
  },
  {
   "cell_type": "code",
   "execution_count": 48,
   "id": "bbac12fd-7f82-42d9-82b8-f68e88d187f6",
   "metadata": {
    "tags": []
   },
   "outputs": [
    {
     "name": "stdout",
     "output_type": "stream",
     "text": [
      "+-------+------+-----------------+-------------------+-----------+-----------+-----------+------------+-------------------------+------------+-----------------+----------+--------------------+---------+-------------------------+----------------+-----------------+-----+\n",
      "|  value|origin|number_of_changes|           found_at|destination|depart_date|search_date|airline_code|airline_name_translations|country_code|        time_zone|flightable|        airport_name|iata_type|airport_name_translations|airport_latitude|airport_longitude|class|\n",
      "+-------+------+-----------------+-------------------+-----------+-----------+-----------+------------+-------------------------+------------+-----------------+----------+--------------------+---------+-------------------------+----------------+-----------------+-----+\n",
      "|18768.0|   MOW|                1|2022-02-03 12:15:36|        MED| 2022-10-15| 2022-02-10|          PC|         Pegasus Airlines|          SA|      Asia-Riyadh|      true|              Медина|  airport|     Prince Mohammad B...|       24.544369|        39.698967|    B|\n",
      "|11270.0|   MOW|                1|2022-02-05 08:19:15|        SJJ| 2022-10-01| 2022-02-10|          PC|         Pegasus Airlines|          BA|  Europe-Sarajevo|      true|              Батмир|  airport|     Sarajevo Internat...|       43.826687|        18.336065|    C|\n",
      "|11721.0|   MOW|                1|2022-02-07 09:00:09|        AJI| 2022-10-10| 2022-02-10|          PC|         Pegasus Airlines|          TR|  Europe-Istanbul|      true|                Агры|  airport|             Agri Airport|           39.65|           43.025|    C|\n",
      "|10339.0|   MOW|                1|2022-02-03 15:01:46|        ECN| 2022-10-22| 2022-02-10|          PC|         Pegasus Airlines|          CY|     Asia-Nicosia|      true|              Эрджан|  airport|            Ercan Airport|        35.15812|         33.50307|    C|\n",
      "|16661.0|   MOW|                2|2022-02-07 14:22:59|        NAV| 2022-10-01| 2022-02-10|          PC|         Pegasus Airlines|          TR|  Europe-Istanbul|      true|            Невшехир|  airport|                 Nevsehir|        38.63333|        34.716667|    B|\n",
      "|12613.0|   MOW|                1|2022-02-09 13:11:12|        KWI| 2022-10-13| 2022-02-10|          PC|         Pegasus Airlines|          KW|      Asia-Kuwait|      true|              Кувейт|  airport|     Kuwait Internatio...|       29.240116|        47.971252|    C|\n",
      "|10232.0|   MOW|                1|2022-02-09 00:37:28|        ADA| 2022-10-03| 2022-02-10|          PC|         Pegasus Airlines|          TR|  Europe-Istanbul|      true|           Шакирпаша|  airport|            Adana Airport|        36.98503|         35.29736|    C|\n",
      "|20135.0|   MOW|                1|2022-02-07 07:30:18|        MED| 2022-09-29| 2022-02-10|          PC|         Pegasus Airlines|          SA|      Asia-Riyadh|      true|              Медина|  airport|     Prince Mohammad B...|       24.544369|        39.698967|    B|\n",
      "|18697.0|   MOW|                1|2022-02-06 14:47:18|        BGW| 2022-09-01| 2022-02-10|          PC|         Pegasus Airlines|          IQ|     Asia-Baghdad|      true|              Багдад|  airport|     Baghdad Internati...|       33.255554|           44.225|    B|\n",
      "|19815.0|   MOW|                1|2022-02-04 18:57:19|        JED| 2022-09-05| 2022-02-10|          PC|         Pegasus Airlines|          SA|      Asia-Riyadh|      true|              Джидда|  airport|     King Abdulaziz In...|       21.670233|        39.150578|    B|\n",
      "| 9555.0|   MOW|                1|2022-02-09 09:25:04|        EDO| 2022-09-04| 2022-02-10|          PC|         Pegasus Airlines|          TR|  Europe-Istanbul|      true|      Эдремит-Корфез|  airport|     Balikesir Koca Se...|       39.583332|        27.033333|    C|\n",
      "|12310.0|   MOW|                1|2022-02-05 12:32:38|        OZH| 2022-09-03| 2022-02-10|          PC|         Pegasus Airlines|          UA|Europe-Zaporozhye|      true|           Запорожье|  airport|       Zaporozhye Airport|         47.8675|        35.315834|    C|\n",
      "|10378.0|   MOW|                1|2022-02-09 16:37:05|        ADA| 2022-09-05| 2022-02-10|          PC|         Pegasus Airlines|          TR|  Europe-Istanbul|      true|           Шакирпаша|  airport|            Adana Airport|        36.98503|         35.29736|    C|\n",
      "|11534.0|   MOW|                1|2022-02-07 12:02:37|        KSY| 2022-09-06| 2022-02-10|          PC|         Pegasus Airlines|          TR|  Europe-Istanbul|      true|                Карс|  airport|             Kars Airport|       40.551666|        43.085835|    C|\n",
      "|13662.0|   MOW|                1|2022-02-09 22:33:25|        THR| 2022-09-10| 2022-02-10|          PC|         Pegasus Airlines|          IR|      Asia-Tehran|      true|Международный аэр...|  airport|     Mehrabad Internat...|       35.691532|         51.32187|    C|\n",
      "|19085.0|   MOW|                1|2022-02-08 09:33:16|        BGW| 2022-08-07| 2022-02-10|          PC|         Pegasus Airlines|          IQ|     Asia-Baghdad|      true|              Багдад|  airport|     Baghdad Internati...|       33.255554|           44.225|    B|\n",
      "|19137.0|   MOW|                1|2022-02-09 15:19:28|        JED| 2022-08-28| 2022-02-10|          PC|         Pegasus Airlines|          SA|      Asia-Riyadh|      true|              Джидда|  airport|     King Abdulaziz In...|       21.670233|        39.150578|    B|\n",
      "|12738.0|   MOW|                1|2022-02-09 08:15:48|        VAN| 2022-08-06| 2022-02-10|          PC|         Pegasus Airlines|          TR|  Europe-Istanbul|      true|                 Ван|  airport|     Van Ferit Melen A...|        38.45861|        43.332222|    C|\n",
      "|28083.0|   MOW|                2|2022-02-05 03:09:22|        BSR| 2022-08-01| 2022-02-10|          PC|         Pegasus Airlines|          IQ|     Asia-Baghdad|      true|               Басра|  airport|     Basra Internation...|       30.555555|         47.79139|    B|\n",
      "|21420.0|   MOW|                1|2022-02-05 21:19:26|        DOH| 2022-08-29| 2022-02-10|          PC|         Pegasus Airlines|          QA|       Asia-Qatar|      true|                Доха|  airport|     Hamad Internation...|       25.267569|        51.558067|    B|\n",
      "+-------+------+-----------------+-------------------+-----------+-----------+-----------+------------+-------------------------+------------+-----------------+----------+--------------------+---------+-------------------------+----------------+-----------------+-----+\n",
      "only showing top 20 rows\n",
      "\n"
     ]
    }
   ],
   "source": [
    "# filter based on column \"number_of_changes\"\n",
    "sparkdf = sparkdf.filter(sparkdf.number_of_changes < 5)\n",
    "sparkdf.show()"
   ]
  },
  {
   "cell_type": "code",
   "execution_count": 49,
   "id": "6c70bd30-9c23-4833-95c4-eea2f0f54216",
   "metadata": {
    "tags": []
   },
   "outputs": [
    {
     "name": "stdout",
     "output_type": "stream",
     "text": [
      "(97472, 18)\n"
     ]
    }
   ],
   "source": [
    "# number of subsequent rows and columns (after applying the filter)\n",
    "print((sparkdf.count(), len(sparkdf.columns)))"
   ]
  },
  {
   "cell_type": "code",
   "execution_count": 50,
   "id": "7e3db9ea-3406-4dd2-961a-35b44a5d77f0",
   "metadata": {
    "tags": []
   },
   "outputs": [
    {
     "name": "stdout",
     "output_type": "stream",
     "text": [
      "+-------------------+-----+-------+-----------------+-----------+-----------+------------+-------------------------+------+-----------+------------+---------------+----------+---------+------------+---------------------------------------------------+----------------+-----------------+\n",
      "|found_at           |class|value  |number_of_changes|depart_date|search_date|airline_code|airline_name_translations|origin|destination|country_code|time_zone      |flightable|iata_type|airport_name|airport_name_translations                          |airport_latitude|airport_longitude|\n",
      "+-------------------+-----+-------+-----------------+-----------+-----------+------------+-------------------------+------+-----------+------------+---------------+----------+---------+------------+---------------------------------------------------+----------------+-----------------+\n",
      "|2022-02-03 12:15:36|B    |18768.0|1                |2022-10-15 |2022-02-10 |PC          |Pegasus Airlines         |MOW   |MED        |SA          |Asia-Riyadh    |true      |airport  |Медина      |Prince Mohammad Bin Abdulaziz International Airport|24.544369       |39.698967        |\n",
      "|2022-02-05 08:19:15|C    |11270.0|1                |2022-10-01 |2022-02-10 |PC          |Pegasus Airlines         |MOW   |SJJ        |BA          |Europe-Sarajevo|true      |airport  |Батмир      |Sarajevo International Airport                     |43.826687       |18.336065        |\n",
      "|2022-02-07 09:00:09|C    |11721.0|1                |2022-10-10 |2022-02-10 |PC          |Pegasus Airlines         |MOW   |AJI        |TR          |Europe-Istanbul|true      |airport  |Агры        |Agri Airport                                       |39.65           |43.025           |\n",
      "|2022-02-03 15:01:46|C    |10339.0|1                |2022-10-22 |2022-02-10 |PC          |Pegasus Airlines         |MOW   |ECN        |CY          |Asia-Nicosia   |true      |airport  |Эрджан      |Ercan Airport                                      |35.15812        |33.50307         |\n",
      "|2022-02-07 14:22:59|B    |16661.0|2                |2022-10-01 |2022-02-10 |PC          |Pegasus Airlines         |MOW   |NAV        |TR          |Europe-Istanbul|true      |airport  |Невшехир    |Nevsehir                                           |38.63333        |34.716667        |\n",
      "|2022-02-09 13:11:12|C    |12613.0|1                |2022-10-13 |2022-02-10 |PC          |Pegasus Airlines         |MOW   |KWI        |KW          |Asia-Kuwait    |true      |airport  |Кувейт      |Kuwait International Airport                       |29.240116       |47.971252        |\n",
      "|2022-02-09 00:37:28|C    |10232.0|1                |2022-10-03 |2022-02-10 |PC          |Pegasus Airlines         |MOW   |ADA        |TR          |Europe-Istanbul|true      |airport  |Шакирпаша   |Adana Airport                                      |36.98503        |35.29736         |\n",
      "|2022-02-07 07:30:18|B    |20135.0|1                |2022-09-29 |2022-02-10 |PC          |Pegasus Airlines         |MOW   |MED        |SA          |Asia-Riyadh    |true      |airport  |Медина      |Prince Mohammad Bin Abdulaziz International Airport|24.544369       |39.698967        |\n",
      "|2022-02-06 14:47:18|B    |18697.0|1                |2022-09-01 |2022-02-10 |PC          |Pegasus Airlines         |MOW   |BGW        |IQ          |Asia-Baghdad   |true      |airport  |Багдад      |Baghdad International Airport                      |33.255554       |44.225           |\n",
      "|2022-02-04 18:57:19|B    |19815.0|1                |2022-09-05 |2022-02-10 |PC          |Pegasus Airlines         |MOW   |JED        |SA          |Asia-Riyadh    |true      |airport  |Джидда      |King Abdulaziz International Airport               |21.670233       |39.150578        |\n",
      "+-------------------+-----+-------+-----------------+-----------+-----------+------------+-------------------------+------+-----------+------------+---------------+----------+---------+------------+---------------------------------------------------+----------------+-----------------+\n",
      "only showing top 10 rows\n",
      "\n"
     ]
    }
   ],
   "source": [
    "# column ordering\n",
    "sparkdf = sparkdf.select(\"found_at\", \"class\", \"value\", \"number_of_changes\",\\\n",
    "                         \"depart_date\", \"search_date\", \"airline_code\", \"airline_name_translations\",\\\n",
    "                         \"origin\", \"destination\", \"country_code\", \\\n",
    "                         \"time_zone\", \"flightable\", \"iata_type\", \"airport_name\", \\\n",
    "                         \"airport_name_translations\", \"airport_latitude\",\"airport_longitude\")\n",
    "sparkdf.show(n = 10, truncate = False)"
   ]
  },
  {
   "cell_type": "code",
   "execution_count": 51,
   "id": "bc98b6e5-5ce4-4c8f-833f-7f7d4dc6b9c6",
   "metadata": {
    "tags": []
   },
   "outputs": [],
   "source": [
    "redshift_url = \"jdbc:postgresql://{host}:{port}/{database}\".format(\n",
    "    host=env['REDSHIFT_HOST'],\n",
    "    port=env['REDSHIFT_PORT'],\n",
    "    database=env['REDSHIFT_DB']\n",
    ")\n",
    "\n",
    "redshift_properties = {\n",
    "    \"user\": env['REDSHIFT_USER'],\n",
    "    \"password\": env['REDSHIFT_PASSWORD'],\n",
    "    \"driver\": \"org.postgresql.Driver\",\n",
    "    \"dbtable\": f\"{env['REDSHIFT_SCHEMA']}.airplane_tickets\"\n",
    "}"
   ]
  },
  {
   "cell_type": "code",
   "execution_count": 52,
   "id": "d84d01f0-a00a-42ec-872b-981c28a37d94",
   "metadata": {
    "tags": []
   },
   "outputs": [],
   "source": [
    "# write to DW Redshift\n",
    "sparkdf.write.jdbc(url=redshift_url, table='airplane_tickets' , mode=\"overwrite\", properties=redshift_properties)"
   ]
  },
  {
   "cell_type": "code",
   "execution_count": 60,
   "id": "deda0ea9-855d-4268-a23e-5fa260b4180a",
   "metadata": {},
   "outputs": [],
   "source": [
    "# Query Redshift using Spark SQL\n",
    "query = f\"select * from {env['REDSHIFT_SCHEMA']}.airplane_tickets\"\n",
    "data = spark.read \\\n",
    "    .format(\"jdbc\") \\\n",
    "    .option(\"url\", f\"jdbc:postgresql://{env['REDSHIFT_HOST']}:{env['REDSHIFT_PORT']}/{env['REDSHIFT_DB']}\") \\\n",
    "    .option(\"dbtable\", f\"({query}) as tmp_table\") \\\n",
    "    .option(\"user\", env['REDSHIFT_USER']) \\\n",
    "    .option(\"password\", env['REDSHIFT_PASSWORD']) \\\n",
    "    .option(\"driver\", \"org.postgresql.Driver\") \\\n",
    "    .load()"
   ]
  },
  {
   "cell_type": "code",
   "execution_count": 63,
   "id": "f19a853b-51ba-49a0-8bc5-f5c1e2e4a240",
   "metadata": {},
   "outputs": [
    {
     "name": "stdout",
     "output_type": "stream",
     "text": [
      "root\n",
      " |-- found_at: timestamp (nullable = true)\n",
      " |-- class: string (nullable = true)\n",
      " |-- value: double (nullable = true)\n",
      " |-- number_of_changes: integer (nullable = true)\n",
      " |-- depart_date: date (nullable = true)\n",
      " |-- search_date: date (nullable = true)\n",
      " |-- airline_code: string (nullable = true)\n",
      " |-- airline_name_translations: string (nullable = true)\n",
      " |-- origin: string (nullable = true)\n",
      " |-- destination: string (nullable = true)\n",
      " |-- country_code: string (nullable = true)\n",
      " |-- time_zone: string (nullable = true)\n",
      " |-- flightable: boolean (nullable = true)\n",
      " |-- iata_type: string (nullable = true)\n",
      " |-- airport_name: string (nullable = true)\n",
      " |-- airport_name_translations: string (nullable = true)\n",
      " |-- airport_latitude: double (nullable = true)\n",
      " |-- airport_longitude: double (nullable = true)\n",
      "\n",
      "+-------------------+-----+-------+-----------------+-----------+-----------+------------+-------------------------+------+-----------+------------+-----------------+----------+---------+------------+-------------------------+----------------+-----------------+\n",
      "|           found_at|class|  value|number_of_changes|depart_date|search_date|airline_code|airline_name_translations|origin|destination|country_code|        time_zone|flightable|iata_type|airport_name|airport_name_translations|airport_latitude|airport_longitude|\n",
      "+-------------------+-----+-------+-----------------+-----------+-----------+------------+-------------------------+------+-----------+------------+-----------------+----------+---------+------------+-------------------------+----------------+-----------------+\n",
      "|2022-02-05 08:19:15|    C|11270.0|                1| 2022-10-01| 2022-02-10|          PC|         Pegasus Airlines|   MOW|        SJJ|          BA|  Europe-Sarajevo|      true|  airport|      Батмир|     Sarajevo Internat...|       43.826687|        18.336065|\n",
      "|2022-02-03 15:01:46|    C|10339.0|                1| 2022-10-22| 2022-02-10|          PC|         Pegasus Airlines|   MOW|        ECN|          CY|     Asia-Nicosia|      true|  airport|      Эрджан|            Ercan Airport|        35.15812|         33.50307|\n",
      "|2022-02-09 13:11:12|    C|12613.0|                1| 2022-10-13| 2022-02-10|          PC|         Pegasus Airlines|   MOW|        KWI|          KW|      Asia-Kuwait|      true|  airport|      Кувейт|     Kuwait Internatio...|       29.240116|        47.971252|\n",
      "|2022-02-07 07:30:18|    B|20135.0|                1| 2022-09-29| 2022-02-10|          PC|         Pegasus Airlines|   MOW|        MED|          SA|      Asia-Riyadh|      true|  airport|      Медина|     Prince Mohammad B...|       24.544369|        39.698967|\n",
      "|2022-02-04 18:57:19|    B|19815.0|                1| 2022-09-05| 2022-02-10|          PC|         Pegasus Airlines|   MOW|        JED|          SA|      Asia-Riyadh|      true|  airport|      Джидда|     King Abdulaziz In...|       21.670233|        39.150578|\n",
      "|2022-02-05 12:32:38|    C|12310.0|                1| 2022-09-03| 2022-02-10|          PC|         Pegasus Airlines|   MOW|        OZH|          UA|Europe-Zaporozhye|      true|  airport|   Запорожье|       Zaporozhye Airport|         47.8675|        35.315834|\n",
      "|2022-02-07 12:02:37|    C|11534.0|                1| 2022-09-06| 2022-02-10|          PC|         Pegasus Airlines|   MOW|        KSY|          TR|  Europe-Istanbul|      true|  airport|        Карс|             Kars Airport|       40.551666|        43.085835|\n",
      "|2022-02-08 09:33:16|    B|19085.0|                1| 2022-08-07| 2022-02-10|          PC|         Pegasus Airlines|   MOW|        BGW|          IQ|     Asia-Baghdad|      true|  airport|      Багдад|     Baghdad Internati...|       33.255554|           44.225|\n",
      "|2022-02-09 08:15:48|    C|12738.0|                1| 2022-08-06| 2022-02-10|          PC|         Pegasus Airlines|   MOW|        VAN|          TR|  Europe-Istanbul|      true|  airport|         Ван|     Van Ferit Melen A...|        38.45861|        43.332222|\n",
      "|2022-02-05 21:19:26|    B|21420.0|                1| 2022-08-29| 2022-02-10|          PC|         Pegasus Airlines|   MOW|        DOH|          QA|       Asia-Qatar|      true|  airport|        Доха|     Hamad Internation...|       25.267569|        51.558067|\n",
      "+-------------------+-----+-------+-----------------+-----------+-----------+------------+-------------------------+------+-----------+------------+-----------------+----------+---------+------------+-------------------------+----------------+-----------------+\n",
      "only showing top 10 rows\n",
      "\n"
     ]
    }
   ],
   "source": [
    "data.printSchema()\n",
    "data.show(n = 10)"
   ]
  },
  {
   "cell_type": "code",
   "execution_count": 64,
   "id": "2c7fbd34-fc57-4a12-8c4a-fdb7bccdc4c6",
   "metadata": {},
   "outputs": [],
   "source": [
    "conn.close()"
   ]
  },
  {
   "cell_type": "code",
   "execution_count": null,
   "id": "ceb55aa0-632e-4a00-8b9f-c70b5db310c0",
   "metadata": {},
   "outputs": [],
   "source": []
  }
 ],
 "metadata": {
  "kernelspec": {
   "display_name": "Python 3 (ipykernel)",
   "language": "python",
   "name": "python3"
  },
  "language_info": {
   "codemirror_mode": {
    "name": "ipython",
    "version": 3
   },
   "file_extension": ".py",
   "mimetype": "text/x-python",
   "name": "python",
   "nbconvert_exporter": "python",
   "pygments_lexer": "ipython3",
   "version": "3.10.10"
  }
 },
 "nbformat": 4,
 "nbformat_minor": 5
}
